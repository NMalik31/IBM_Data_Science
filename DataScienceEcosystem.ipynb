{
 "cells": [
  {
   "cell_type": "markdown",
   "id": "97b3d945-8125-447d-9347-002427193376",
   "metadata": {},
   "source": [
    "# Data Science Tools and Ecosystem"
   ]
  },
  {
   "cell_type": "markdown",
   "id": "93bb0426-770e-427b-a87f-4c72d3c8db63",
   "metadata": {},
   "source": [
    "In this notebook, Data Science Tools and Ecosystem are summarized."
   ]
  },
  {
   "cell_type": "markdown",
   "id": "9de36158-f4b5-4436-abf1-e291ff0ead98",
   "metadata": {},
   "source": [
    "**Objectives:**\n",
    "+ List popular data science languages\n",
    "+ List popular data science libraries\n",
    "+ Run some arithmetic code cells\n",
    "+ Upload notebook to GitHub"
   ]
  },
  {
   "cell_type": "markdown",
   "id": "0ecaa14f-4aad-446a-9f08-c091b574859d",
   "metadata": {},
   "source": [
    "Some of the popular languages that data scientists use are-\n",
    "1. Python\n",
    "2. R\n",
    "3. Scala\n",
    "4. Julia"
   ]
  },
  {
   "cell_type": "markdown",
   "id": "0aa32602-f637-4ed5-a1be-0b86afd3290a",
   "metadata": {},
   "source": [
    "Some of the commonly used libraries used by Data Scientists include:\n",
    "1. Numpy\n",
    "2. Pandas\n",
    "3. MatPlotLib\n",
    "4. Seaborn"
   ]
  },
  {
   "cell_type": "markdown",
   "id": "88ab065d-a4d5-4a24-91a9-77e2eb3b2b88",
   "metadata": {},
   "source": [
    "| Data Science Tools |\n",
    "|--------------------|\n",
    "| Apache Spark |\n",
    "| GitHub |\n",
    "| MySQL |"
   ]
  },
  {
   "cell_type": "markdown",
   "id": "bd4a95ac-b8a0-4b82-a9fb-ddc5d815a984",
   "metadata": {},
   "source": [
    "### Below are a few examples of evaluating arithmetic expressions in Python"
   ]
  },
  {
   "cell_type": "code",
   "execution_count": 1,
   "id": "9710425f-cdc6-4f6e-948b-e52e8e7560cc",
   "metadata": {
    "tags": []
   },
   "outputs": [
    {
     "data": {
      "text/plain": [
       "17"
      ]
     },
     "execution_count": 1,
     "metadata": {},
     "output_type": "execute_result"
    }
   ],
   "source": [
    "#This a simple arithmetic expression to mutiply then add integers\n",
    "(3 * 4) + 5"
   ]
  },
  {
   "cell_type": "code",
   "execution_count": 2,
   "id": "3ae47318-ecf0-4bb5-80ce-331ca1a6ac53",
   "metadata": {
    "tags": []
   },
   "outputs": [
    {
     "name": "stdout",
     "output_type": "stream",
     "text": [
      "3.3333333333333335\n"
     ]
    }
   ],
   "source": [
    "#This will convert 200 minutes to hours by diving by 60\n",
    "minutes = 200\n",
    "print(minutes/60)"
   ]
  },
  {
   "cell_type": "markdown",
   "id": "943362f7-8b0a-42a1-9a0c-5f9c86dfcf79",
   "metadata": {},
   "source": [
    "## Author\n",
    "Neelaksha Malik"
   ]
  },
  {
   "cell_type": "code",
   "execution_count": null,
   "id": "7d706c02-8a5e-42b4-8ce8-e1f0cbd6d9e5",
   "metadata": {},
   "outputs": [],
   "source": []
  }
 ],
 "metadata": {
  "kernelspec": {
   "display_name": "Python",
   "language": "python",
   "name": "conda-env-python-py"
  },
  "language_info": {
   "codemirror_mode": {
    "name": "ipython",
    "version": 3
   },
   "file_extension": ".py",
   "mimetype": "text/x-python",
   "name": "python",
   "nbconvert_exporter": "python",
   "pygments_lexer": "ipython3",
   "version": "3.7.12"
  }
 },
 "nbformat": 4,
 "nbformat_minor": 5
}
